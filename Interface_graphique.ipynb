{
  "nbformat": 4,
  "nbformat_minor": 0,
  "metadata": {
    "colab": {
      "provenance": [],
      "authorship_tag": "ABX9TyNuQVbXg1sDAD7JiiSFwMjx",
      "include_colab_link": true
    },
    "kernelspec": {
      "name": "python3",
      "display_name": "Python 3"
    },
    "language_info": {
      "name": "python"
    }
  },
  "cells": [
    {
      "cell_type": "markdown",
      "metadata": {
        "id": "view-in-github",
        "colab_type": "text"
      },
      "source": [
        "<a href=\"https://colab.research.google.com/github/UgoRicher/ProjetTechnique/blob/main/Interface_graphique.ipynb\" target=\"_parent\"><img src=\"https://colab.research.google.com/assets/colab-badge.svg\" alt=\"Open In Colab\"/></a>"
      ]
    },
    {
      "cell_type": "code",
      "source": [
        "!pip install Flask pyngrok\n",
        "\n"
      ],
      "metadata": {
        "colab": {
          "base_uri": "https://localhost:8080/"
        },
        "id": "gEBH9AfjBNRu",
        "outputId": "09dcde38-6075-46ce-85f3-c1a3aa34dc44"
      },
      "execution_count": 9,
      "outputs": [
        {
          "output_type": "stream",
          "name": "stdout",
          "text": [
            "Requirement already satisfied: Flask in /usr/local/lib/python3.10/dist-packages (2.2.5)\n",
            "Requirement already satisfied: pyngrok in /usr/local/lib/python3.10/dist-packages (7.1.6)\n",
            "Requirement already satisfied: Werkzeug>=2.2.2 in /usr/local/lib/python3.10/dist-packages (from Flask) (3.0.3)\n",
            "Requirement already satisfied: Jinja2>=3.0 in /usr/local/lib/python3.10/dist-packages (from Flask) (3.1.4)\n",
            "Requirement already satisfied: itsdangerous>=2.0 in /usr/local/lib/python3.10/dist-packages (from Flask) (2.2.0)\n",
            "Requirement already satisfied: click>=8.0 in /usr/local/lib/python3.10/dist-packages (from Flask) (8.1.7)\n",
            "Requirement already satisfied: PyYAML>=5.1 in /usr/local/lib/python3.10/dist-packages (from pyngrok) (6.0.1)\n",
            "Requirement already satisfied: MarkupSafe>=2.0 in /usr/local/lib/python3.10/dist-packages (from Jinja2>=3.0->Flask) (2.1.5)\n"
          ]
        }
      ]
    },
    {
      "cell_type": "code",
      "source": [
        "!ngrok config add-authtoken 2hpBCmTTLROiBR517ajltO3mq4y_4LZie97eLGr3RUQCyCHiv\n"
      ],
      "metadata": {
        "colab": {
          "base_uri": "https://localhost:8080/"
        },
        "id": "DNrBOVn6Q9dR",
        "outputId": "a4b7b024-339b-4f80-be8c-89b8a28a1c1e"
      },
      "execution_count": 10,
      "outputs": [
        {
          "output_type": "stream",
          "name": "stdout",
          "text": [
            "Authtoken saved to configuration file: /root/.config/ngrok/ngrok.yml\n"
          ]
        }
      ]
    },
    {
      "cell_type": "code",
      "source": [
        "from flask import Flask, request, render_template_string, jsonify\n",
        "import pandas as pd\n",
        "import numpy as np\n",
        "from sklearn.preprocessing import MinMaxScaler\n",
        "from tensorflow.keras.models import Sequential\n",
        "from tensorflow.keras.layers import LSTM, Dense, Dropout\n",
        "from xgboost import XGBRegressor\n",
        "import matplotlib.pyplot as plt\n",
        "import io\n",
        "import base64\n",
        "from pyngrok import ngrok\n",
        "import time\n",
        "import threading\n",
        "\n",
        "app = Flask(__name__)\n",
        "\n",
        "# Chemin du fichier de données\n",
        "file_path = '/content/Online Sales Data.csv'\n",
        "\n",
        "# Vérifiez si le fichier existe\n",
        "import os\n",
        "if not os.path.exists(file_path):\n",
        "    file_path = '/mnt/data/Online Sales Data.csv'\n",
        "    if not os.path.exists(file_path):\n",
        "        raise FileNotFoundError(\"Le fichier de données est introuvable dans les chemins spécifiés.\")\n",
        "\n",
        "# Fonction pour charger les données\n",
        "def load_data(file_path):\n",
        "    data = pd.read_csv(file_path, sep=';')\n",
        "    data['Total Revenue'] = data['Total Revenue'].fillna(0)\n",
        "    data['Date'] = pd.to_datetime(data['Date'], dayfirst=True)\n",
        "    data = data.sort_values(by='Date')\n",
        "    df = data[['Date', 'Total Revenue']]\n",
        "    df.set_index('Date', inplace=True)\n",
        "    return df\n",
        "\n",
        "# Préparation des données pour les modèles\n",
        "def prepare_data(df, time_step):\n",
        "    scaler = MinMaxScaler(feature_range=(0, 1))\n",
        "    scaled_data = scaler.fit_transform(df)\n",
        "\n",
        "    X, y = [], []\n",
        "    for i in range(len(scaled_data) - time_step):\n",
        "        X.append(scaled_data[i:(i + time_step), 0])\n",
        "        y.append(scaled_data[i + time_step, 0])\n",
        "\n",
        "    X, y = np.array(X), np.array(y)\n",
        "    X = X.reshape(X.shape[0], X.shape[1], 1)\n",
        "\n",
        "    return X, y, scaler\n",
        "\n",
        "# Création du modèle LSTM\n",
        "def create_lstm_model(time_step):\n",
        "    model = Sequential()\n",
        "    model.add(LSTM(100, return_sequences=True, input_shape=(time_step, 1)))\n",
        "    model.add(Dropout(0.2))\n",
        "    model.add(LSTM(100, return_sequences=True))\n",
        "    model.add(Dropout(0.2))\n",
        "    model.add(LSTM(50))\n",
        "    model.add(Dropout(0.2))\n",
        "    model.add(Dense(1))\n",
        "    model.compile(optimizer='adam', loss='mean_squared_error')\n",
        "    return model\n",
        "\n",
        "# Création du modèle XGBoost\n",
        "def create_xgb_model():\n",
        "    model = XGBRegressor(objective='reg:squarederror', n_estimators=100, learning_rate=0.1)\n",
        "    return model\n",
        "\n",
        "# Fonction pour effectuer la prédiction\n",
        "def predict(model, X, scaler):\n",
        "    prediction = model.predict(X)\n",
        "    prediction = scaler.inverse_transform(prediction.reshape(-1, 1))\n",
        "    return prediction\n",
        "\n",
        "@app.route('/')\n",
        "def index():\n",
        "    return render_template_string('''\n",
        "    <h1>Prédiction des Ventes</h1>\n",
        "    <form action=\"/predict\" method=\"post\" id=\"predictForm\">\n",
        "        <label for=\"model\">Choisir le modèle:</label>\n",
        "        <select name=\"model\" id=\"model\">\n",
        "            <option value=\"lstm\">LSTM</option>\n",
        "            <option value=\"xgboost\">XGBoost</option>\n",
        "        </select><br><br>\n",
        "        <label for=\"epochs\">Nombre d'epochs (LSTM uniquement):</label>\n",
        "        <input type=\"number\" id=\"epochs\" name=\"epochs\" value=\"100\"><br><br>\n",
        "        <label for=\"time_step\">Time step:</label>\n",
        "        <input type=\"number\" id=\"time_step\" name=\"time_step\" value=\"10\"><br><br>\n",
        "        <label for=\"train_split\">Répartition entraînement/test (%):</label>\n",
        "        <input type=\"number\" id=\"train_split\" name=\"train_split\" value=\"70\"><br><br>\n",
        "        <input type=\"submit\" value=\"Faire des Prédictions\">\n",
        "    </form>\n",
        "    <div id=\"loading\" style=\"display:none;\">\n",
        "        <img src=\"https://i.imgur.com/LLFzC6D.gif\" alt=\"loading\" width=\"50px\">\n",
        "        <p>Chargement en cours...</p>\n",
        "    </div>\n",
        "    <div id=\"result\"></div>\n",
        "    <script>\n",
        "        document.getElementById(\"predictForm\").onsubmit = function() {\n",
        "            document.getElementById(\"loading\").style.display = \"block\";\n",
        "            document.getElementById(\"result\").innerHTML = \"\";\n",
        "        }\n",
        "    </script>\n",
        "    ''')\n",
        "\n",
        "@app.route('/predict', methods=['POST'])\n",
        "def predict_sales():\n",
        "    model_choice = request.form['model']\n",
        "    epochs = int(request.form['epochs'])\n",
        "    time_step = int(request.form['time_step'])\n",
        "    train_split = int(request.form['train_split']) / 100\n",
        "\n",
        "    df = load_data(file_path)\n",
        "    X, y, scaler = prepare_data(df, time_step)\n",
        "\n",
        "    # Split des données en train et test\n",
        "    train_size = int(len(X) * train_split)\n",
        "    X_train, X_test = X[:train_size], X[train_size:]\n",
        "    y_train, y_test = y[:train_size], y[train_size:]\n",
        "\n",
        "    if model_choice == 'lstm':\n",
        "        model = create_lstm_model(time_step)\n",
        "        model.fit(X_train, y_train, epochs=epochs, batch_size=32, verbose=0)\n",
        "    elif model_choice == 'xgboost':\n",
        "        model = create_xgb_model()\n",
        "        model.fit(X_train.reshape(X_train.shape[0], X_train.shape[1]), y_train)\n",
        "\n",
        "    test_predict = predict(model, X_test, scaler)\n",
        "\n",
        "    plt.figure(figsize=(12, 6))\n",
        "    plt.plot(df.index[time_step:], scaler.inverse_transform(y.reshape(-1, 1)), label='Données Originales')\n",
        "    plt.plot(df.index[train_size+time_step:], test_predict, label='Prédictions ' + model_choice.upper())\n",
        "    plt.xlabel('Date')\n",
        "    plt.ylabel('Total des Revenus')\n",
        "    plt.legend()\n",
        "\n",
        "    img = io.BytesIO()\n",
        "    plt.savefig(img, format='png')\n",
        "    img.seek(0)\n",
        "    plot_url = base64.b64encode(img.getvalue()).decode()\n",
        "    plt.close()\n",
        "\n",
        "    return render_template_string('''\n",
        "    <h1>Prédiction des Ventes</h1>\n",
        "    <img src=\"data:image/png;base64,{{ plot_url }}\">\n",
        "    <br>\n",
        "    <a href=\"/\">Retour</a>\n",
        "    <script>\n",
        "        document.getElementById(\"loading\").style.display = \"none\";\n",
        "    </script>\n",
        "    ''', plot_url=plot_url)\n",
        "\n",
        "if __name__ == '__main__':\n",
        "    # Démarrer ngrok pour rendre le site accessible\n",
        "    public_url = ngrok.connect(5000)\n",
        "    print(f'Public URL: {public_url}')\n",
        "    app.run(port=5000)\n",
        "\n"
      ],
      "metadata": {
        "colab": {
          "base_uri": "https://localhost:8080/"
        },
        "id": "txkEkIyAPTbt",
        "outputId": "fe25d14b-6653-4138-979a-40cc394cade5"
      },
      "execution_count": 13,
      "outputs": [
        {
          "output_type": "stream",
          "name": "stdout",
          "text": [
            "Public URL: NgrokTunnel: \"https://3297-34-85-133-139.ngrok-free.app\" -> \"http://localhost:5000\"\n",
            " * Serving Flask app '__main__'\n",
            " * Debug mode: off\n"
          ]
        },
        {
          "output_type": "stream",
          "name": "stderr",
          "text": [
            "INFO:werkzeug:\u001b[31m\u001b[1mWARNING: This is a development server. Do not use it in a production deployment. Use a production WSGI server instead.\u001b[0m\n",
            " * Running on http://127.0.0.1:5000\n",
            "INFO:werkzeug:\u001b[33mPress CTRL+C to quit\u001b[0m\n",
            "INFO:werkzeug:127.0.0.1 - - [13/Jun/2024 20:38:19] \"GET / HTTP/1.1\" 200 -\n",
            "INFO:werkzeug:127.0.0.1 - - [13/Jun/2024 20:38:20] \"\u001b[33mGET /favicon.ico HTTP/1.1\u001b[0m\" 404 -\n"
          ]
        },
        {
          "output_type": "stream",
          "name": "stdout",
          "text": [
            "3/3 [==============================] - 1s 9ms/step\n"
          ]
        },
        {
          "output_type": "stream",
          "name": "stderr",
          "text": [
            "INFO:werkzeug:127.0.0.1 - - [13/Jun/2024 20:38:56] \"POST /predict HTTP/1.1\" 200 -\n",
            "INFO:werkzeug:127.0.0.1 - - [13/Jun/2024 20:39:08] \"GET / HTTP/1.1\" 200 -\n"
          ]
        }
      ]
    }
  ]
}